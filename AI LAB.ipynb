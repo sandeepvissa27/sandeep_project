{
 "cells": [
  {
   "cell_type": "code",
   "execution_count": 42,
   "metadata": {},
   "outputs": [
    {
     "name": "stdout",
     "output_type": "stream",
     "text": [
      "\r\n",
      "Gayatri Vidya Parishad College of Engineering(Autonomous)\r\n",
      "Madhurawada, Visakhapatnam - 530 048\r\n",
      "Andhra Pradesh\r\n",
      "India\n",
      "\r\n",
      "Telephone No. : 91-891-2739507\r\n",
      "Fax : 91-891-2739605\r\n",
      "E-Mail : \r\n",
      "gvpce@yahoo.com   (or) \r\n",
      "\r\n",
      "principal@gvpce.ac.in\n"
     ]
    }
   ],
   "source": [
    "import requests\n",
    "import re\n",
    "from bs4 import BeautifulSoup\n",
    "url = 'https://www.gvpce.ac.in/contactus.html'\n",
    "page = requests.get(url)\n",
    "soup = BeautifulSoup(page.text, 'html.parser')\n",
    "address = soup.find('div', attrs={'class':'info'})\n",
    "if address==None:\n",
    "    print('------')\n",
    "else:\n",
    "    x = address.find('p').text\n",
    "    x = re.sub('[\\t]','',x)\n",
    "    print(x)\n",
    "    "
   ]
  },
  {
   "cell_type": "code",
   "execution_count": null,
   "metadata": {},
   "outputs": [],
   "source": []
  }
 ],
 "metadata": {
  "colab": {
   "name": "Copy of Artificial Intelligence lab record.ipynb",
   "provenance": []
  },
  "kernelspec": {
   "display_name": "Python 3 (ipykernel)",
   "language": "python",
   "name": "python3"
  },
  "language_info": {
   "codemirror_mode": {
    "name": "ipython",
    "version": 3
   },
   "file_extension": ".py",
   "mimetype": "text/x-python",
   "name": "python",
   "nbconvert_exporter": "python",
   "pygments_lexer": "ipython3",
   "version": "3.9.7"
  }
 },
 "nbformat": 4,
 "nbformat_minor": 1
}
