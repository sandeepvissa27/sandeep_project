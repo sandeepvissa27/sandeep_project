{
 "cells": [
  {
   "cell_type": "code",
   "execution_count": 41,
   "metadata": {},
   "outputs": [
    {
     "name": "stdout",
     "output_type": "stream",
     "text": [
      "['\\r', '\\n', '\\t', '\\t', '\\t', '\\t', '\\t', '\\t', 'G', 'a', 'y', 'a', 't', 'r', 'i', ' ', 'V', 'i', 'd', 'y', 'a', ' ', 'P', 'a', 'r', 'i', 's', 'h', 'a', 'd', ' ', 'C', 'o', 'l', 'l', 'e', 'g', 'e', ' ', 'o', 'f', ' ', 'E', 'n', 'g', 'i', 'n', 'e', 'e', 'r', 'i', 'n', 'g', '(', 'A', 'u', 't', 'o', 'n', 'o', 'm', 'o', 'u', 's', ')', '\\r', '\\n', '\\t', '\\t', '\\t', '\\t', '\\t', '\\t', 'M', 'a', 'd', 'h', 'u', 'r', 'a', 'w', 'a', 'd', 'a', ',', ' ', 'V', 'i', 's', 'a', 'k', 'h', 'a', 'p', 'a', 't', 'n', 'a', 'm', ' ', '-', ' ', '5', '3', '0', ' ', '0', '4', '8', '\\r', '\\n', '\\t', '\\t', '\\t', '\\t', '\\t', '\\t', 'A', 'n', 'd', 'h', 'r', 'a', ' ', 'P', 'r', 'a', 'd', 'e', 's', 'h', '\\r', '\\n', '\\t', '\\t', '\\t', '\\t', '\\t', '\\t', 'I', 'n', 'd', 'i', 'a', '\\n', '\\r', '\\n', '\\t', '\\t', '\\t', '\\t', '\\t', '\\t', 'T', 'e', 'l', 'e', 'p', 'h', 'o', 'n', 'e', ' ', 'N', 'o', '.', ' ', ':', ' ', '9', '1', '-', '8', '9', '1', '-', '2', '7', '3', '9', '5', '0', '7', '\\r', '\\n', '\\t', '\\t', '\\t', '\\t', '\\t', '\\t', 'F', 'a', 'x', ' ', ':', ' ', '9', '1', '-', '8', '9', '1', '-', '2', '7', '3', '9', '6', '0', '5', '\\r', '\\n', '\\t', '\\t', '\\t', '\\t', '\\t', '\\t', 'E', '-', 'M', 'a', 'i', 'l', ' ', ':', ' ', '\\r', '\\n', '\\t', '\\t', '\\t', '\\t', '\\t', '\\t', 'g', 'v', 'p', 'c', 'e', '@', 'y', 'a', 'h', 'o', 'o', '.', 'c', 'o', 'm', '\\xa0', '\\xa0', ' ', '(', 'o', 'r', ')', '\\xa0', '\\r', '\\n', '\\t', '\\t', '\\t', '\\t', '\\t', '\\t', '\\r', '\\n', '\\t', '\\t', '\\t', '\\t', '\\t', '\\t', 'p', 'r', 'i', 'n', 'c', 'i', 'p', 'a', 'l', '@', 'g', 'v', 'p', 'c', 'e', '.', 'a', 'c', '.', 'i', 'n']\n",
      "\r\n",
      "Gayatri Vidya Parishad College of Engineering(Autonomous)\r\n",
      "Madhurawada, Visakhapatnam - 530 048\r\n",
      "Andhra Pradesh\r\n",
      "India\n",
      "\r\n",
      "Telephone No. : 91-891-2739507\r\n",
      "Fax : 91-891-2739605\r\n",
      "E-Mail : \r\n",
      "gvpce@yahoo.com   (or) \r\n",
      "\r\n",
      "principal@gvpce.ac.in\n"
     ]
    }
   ],
   "source": [
    "import requests\n",
    "import re\n",
    "from bs4 import BeautifulSoup\n",
    "url = 'https://www.gvpce.ac.in/contactus.html'\n",
    "page = requests.get(url)\n",
    "soup = BeautifulSoup(page.text, 'html.parser')\n",
    "address = soup.find('div', attrs={'class':'info'})\n",
    "if address==None:\n",
    "    print('------')\n",
    "else:\n",
    "    x = address.find('p').text\n",
    "    x = re.sub('[\\t]','',x)\n",
    "    print(x)\n",
    "    "
   ]
  },
  {
   "cell_type": "code",
   "execution_count": null,
   "metadata": {},
   "outputs": [],
   "source": []
  }
 ],
 "metadata": {
  "colab": {
   "name": "Copy of Artificial Intelligence lab record.ipynb",
   "provenance": []
  },
  "kernelspec": {
   "display_name": "Python 3 (ipykernel)",
   "language": "python",
   "name": "python3"
  },
  "language_info": {
   "codemirror_mode": {
    "name": "ipython",
    "version": 3
   },
   "file_extension": ".py",
   "mimetype": "text/x-python",
   "name": "python",
   "nbconvert_exporter": "python",
   "pygments_lexer": "ipython3",
   "version": "3.9.7"
  }
 },
 "nbformat": 4,
 "nbformat_minor": 1
}
